{
  "nbformat": 4,
  "nbformat_minor": 0,
  "metadata": {
    "colab": {
      "name": "google_classroom_score2csv.ipynb のコピー のコピー",
      "provenance": [],
      "collapsed_sections": []
    },
    "kernelspec": {
      "name": "python3",
      "display_name": "Python 3"
    }
  },
  "cells": [
    {
      "cell_type": "markdown",
      "metadata": {
        "id": "BfBa34EZIKE5"
      },
      "source": [
        "YouTubeチャンネル移行"
      ]
    },
    {
      "cell_type": "code",
      "metadata": {
        "id": "b_Pclg-PvlDH"
      },
      "source": [
        "import os\n",
        "import csv\n",
        "import pickle\n",
        "import google.oauth2.credentials\n",
        "import google_auth_oauthlib.flow\n",
        "import googleapiclient.discovery\n",
        "import googleapiclient.errors\n",
        "import time\n",
        "from googleapiclient.errors import HttpError\n",
        "\n",
        "class YouTubeChannelMigrationTool:\n",
        "\n",
        "  def __init__(self, client_secret_json):\n",
        "    self.CLIENT_SECRETS_FILE = client_secret_json\n",
        "    self.SCOPES = ['https://www.googleapis.com/auth/youtubepartner', 'https://www.googleapis.com/auth/youtube', 'https://www.googleapis.com/auth/youtube.force-ssl']\n",
        "    self.API_SERVICE_NAME = 'youtube'\n",
        "    self.API_VERSION = 'v3'\n",
        "    print(\"Authenticate old account\")\n",
        "    self.service_old = self.get_authenticated_service(pickleFileName=\"CREDENTIALS_PICKLE_FILE_OLD\")\n",
        "    print(\"Authenticate new account\")\n",
        "    self.service_new = self.get_authenticated_service(pickleFileName=\"CREDENTIALS_PICKLE_FILE_NEW\")\n",
        "    self.courseId = None\n",
        "\n",
        "  # Google Auth Init\n",
        "  def get_authenticated_service(self, pickleFileName=\"CREDENTIALS_PICKLE_FILE\"):\n",
        "    if os.path.exists(pickleFileName):\n",
        "        with open(pickleFileName, 'rb') as f:\n",
        "            credentials = pickle.load(f)\n",
        "    else:\n",
        "        flow = google_auth_oauthlib.flow.InstalledAppFlow.from_client_secrets_file(self.CLIENT_SECRETS_FILE, self.SCOPES)\n",
        "        credentials = flow.run_console()\n",
        "        with open(pickleFileName, 'wb') as f:\n",
        "            pickle.dump(credentials, f)\n",
        "    return googleapiclient.discovery.build(self.API_SERVICE_NAME, self.API_VERSION, credentials=credentials)\n",
        "\n",
        "  # Get Liked Videos\n",
        "  def get_liked_videos_old(self, nextPageToken=None, output=[]):\n",
        "    request = self.service_old.playlistItems().list(\n",
        "        part=\"snippet\",\n",
        "        playlistId=\"LL\",\n",
        "        pageToken=nextPageToken\n",
        "    ).execute()\n",
        "    for info in request[\"items\"]:\n",
        "      output.append(info[\"snippet\"][\"resourceId\"][\"videoId\"])\n",
        "    try:\n",
        "      nextPageToken = request[\"nextPageToken\"]\n",
        "    except:\n",
        "      return output\n",
        "    else:\n",
        "      return self.get_liked_videos_old(nextPageToken, output)\n",
        "\n",
        "  # Get Liked Videos\n",
        "  def get_liked_videos_new(self, nextPageToken=None, output=[]):\n",
        "    request = self.service_new.playlistItems().list(\n",
        "        part=\"snippet\",\n",
        "        playlistId=\"LL\",\n",
        "        pageToken=nextPageToken\n",
        "    ).execute()\n",
        "    for info in request[\"items\"]:\n",
        "      output.append(info[\"snippet\"][\"resourceId\"][\"videoId\"])\n",
        "    try:\n",
        "      nextPageToken = request[\"nextPageToken\"]\n",
        "    except:\n",
        "      return output\n",
        "    else:\n",
        "      return self.get_liked_videos_new(nextPageToken, output)\n",
        "\n",
        "  # Set Liked Videos\n",
        "  def set_liked_videos(self, videoId):\n",
        "    request_body = {\n",
        "          \"snippet\": {\n",
        "            \"playlistId\": \"LL\",\n",
        "            \"resourceId\": {\n",
        "              \"kind\": \"youtube#video\",\n",
        "              \"videoId\": videoId\n",
        "            }\n",
        "          }\n",
        "        }\n",
        "    request = self.service_new.playlistItems().insert(\n",
        "        part=\"snippet\",\n",
        "        body=request_body\n",
        "    ).execute()\n",
        "    return request\n",
        "\n",
        "  # Get Subscriptions Old Account\n",
        "  def get_subscriptions_old(self, nextPageToken=None, output=[]):\n",
        "    request = self.service_old.subscriptions().list(\n",
        "        part=\"snippet\",\n",
        "        mine=\"true\",\n",
        "        pageToken=nextPageToken\n",
        "    ).execute()\n",
        "    for info in request[\"items\"]:\n",
        "      output.append(info[\"snippet\"][\"resourceId\"][\"channelId\"])\n",
        "    try:\n",
        "      nextPageToken = request[\"nextPageToken\"]\n",
        "    except:\n",
        "      return output\n",
        "    else:\n",
        "      return self.get_subscriptions_old(nextPageToken, output)\n",
        "\n",
        "  # Get Subscriptions New Account\n",
        "  def get_subscriptions_new(self, nextPageToken=None, output=[]):\n",
        "    request = self.service_new.subscriptions().list(\n",
        "        part=\"snippet\",\n",
        "        mine=\"true\",\n",
        "        pageToken=nextPageToken\n",
        "    ).execute()\n",
        "    for info in request[\"items\"]:\n",
        "      output.append(info[\"snippet\"][\"resourceId\"][\"channelId\"])\n",
        "    try:\n",
        "      nextPageToken = request[\"nextPageToken\"]\n",
        "    except:\n",
        "      return output\n",
        "    else:\n",
        "      return self.get_subscriptions_new(nextPageToken, output)\n",
        "\n",
        "  # Set Subscriptions (Subscribe Channel)\n",
        "  def set_subscriptions(self, channelId):\n",
        "    request_body = {\n",
        "          \"snippet\": {\n",
        "            \"resourceId\": {\n",
        "              \"channelId\": channelId\n",
        "            }\n",
        "          }\n",
        "        }\n",
        "    request = self.service_new.subscriptions().insert(\n",
        "        part=\"snippet\",\n",
        "        body=request_body\n",
        "    ).execute()\n",
        "    return request"
      ],
      "execution_count": null,
      "outputs": []
    },
    {
      "cell_type": "markdown",
      "metadata": {
        "id": "FXPXjpEoImVE"
      },
      "source": [
        "GoogleのAPIを有効化するために、Google API Consoleからプロジェクトを作成し、Oauth Desktopクライアントを作成 (JSONで認証情報をダウンロードしてくる)すると同時に、YouTube Data API V3を有効化しておく"
      ]
    },
    {
      "cell_type": "code",
      "metadata": {
        "id": "55oV9YG_1yfy"
      },
      "source": [
        "YTCMT = YouTubeChannelMigrationTool(\"./client_secret_hogehoge.json\")"
      ],
      "execution_count": null,
      "outputs": []
    },
    {
      "cell_type": "markdown",
      "metadata": {
        "id": "6rE8a1xzI7b9"
      },
      "source": [
        "高評価した動画リストを移行"
      ]
    },
    {
      "cell_type": "code",
      "metadata": {
        "id": "fFCPtnvz730A"
      },
      "source": [
        "liked_videos_old = YTCMT.get_liked_videos_old()\r\n",
        "liked_videos_new = YTCMT.get_liked_videos_new()\r\n",
        "liked_videos = list(set(liked_videos_old) - set(liked_videos_new))\r\n",
        "print(len(liked_videos))\r\n",
        "for id, video in enumerate(reversed(liked_videos[:-134])):\r\n",
        "  for _ in range(3):\r\n",
        "    try:\r\n",
        "      YTCMT.set_liked_videos(video)\r\n",
        "    except HttpError as e:\r\n",
        "      print(id, video, e)\r\n",
        "      if e.resp.status == 404:\r\n",
        "        break\r\n",
        "      elif e.resp.status == 403:\r\n",
        "        time.sleep(120)\r\n",
        "      else:\r\n",
        "        time.sleep(10)\r\n",
        "    else:\r\n",
        "      break\r\n",
        "  else:\r\n",
        "    raise ValueError\r\n",
        "  print(id)\r\n",
        "  time.sleep(5)"
      ],
      "execution_count": null,
      "outputs": []
    },
    {
      "cell_type": "markdown",
      "metadata": {
        "id": "Qs-LMyPAQrJI"
      },
      "source": [
        "登録チャンネルリストを移行"
      ]
    },
    {
      "cell_type": "code",
      "metadata": {
        "id": "NLKGx2RhKWTT"
      },
      "source": [
        "subscriptions_old = YTCMT.get_subscriptions_old()\r\n",
        "subscriptions_new = YTCMT.get_subscriptions_new()\r\n",
        "subscriptions = list(set(subscriptions_old) - set(subscriptions_new))\r\n",
        "print(len(subscriptions))\r\n",
        "for id, channel in enumerate(subscriptions):\r\n",
        "  for _ in range(3):\r\n",
        "    try:\r\n",
        "      YTCMT.set_subscriptions(channel)\r\n",
        "    except HttpError as e:\r\n",
        "      print(id, channel, e)\r\n",
        "      if e.resp.status == 400:\r\n",
        "        break\r\n",
        "      elif e.resp.status == 403:\r\n",
        "        time.sleep(120)\r\n",
        "      else:\r\n",
        "        time.sleep(10)\r\n",
        "    else:\r\n",
        "      break\r\n",
        "  else:\r\n",
        "    raise ValueError\r\n",
        "  print(id)\r\n",
        "  time.sleep(5)"
      ],
      "execution_count": null,
      "outputs": []
    }
  ]
}